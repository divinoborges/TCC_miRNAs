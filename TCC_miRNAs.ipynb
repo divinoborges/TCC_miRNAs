{
  "nbformat": 4,
  "nbformat_minor": 0,
  "metadata": {
    "colab": {
      "name": "TCC miRNAs.ipynb",
      "provenance": [],
      "collapsed_sections": [
        "o4ia9Hc8s1rd",
        "S5IIcN43mQJ5",
        "Mwb6y6cpmYHb",
        "JZK-eeV3s8di"
      ]
    },
    "kernelspec": {
      "name": "python3",
      "display_name": "Python 3"
    },
    "language_info": {
      "name": "python"
    }
  },
  "cells": [
    {
      "cell_type": "markdown",
      "metadata": {
        "id": "V7I8sj6astMU"
      },
      "source": [
        "# 2D"
      ]
    },
    {
      "cell_type": "code",
      "metadata": {
        "id": "k7zn1EB1XpYX"
      },
      "source": [
        "import numpy as np\n",
        "import pandas as pd\n",
        "import tensorflow as tf\n",
        "from keras import optimizers, regularizers\n",
        "from keras.callbacks import ModelCheckpoint\n",
        "from keras.layers.core import Dense, Dropout\n",
        "from keras.layers.convolutional import Conv2D, UpSampling2D, Conv2DTranspose\n",
        "from keras.layers.pooling import MaxPooling2D, GlobalAveragePooling2D\n",
        "from keras.layers import Input, Concatenate, add\n",
        "from keras import optimizers\n",
        "from sklearn.model_selection import train_test_split\n",
        "from tensorflow.keras import layers\n",
        "from tensorflow.keras.layers.experimental import preprocessing\n",
        "from sklearn.metrics import confusion_matrix\n",
        "from sklearn.metrics import precision_score\n",
        "from sklearn.metrics import recall_score\n",
        "from sklearn.metrics import f1_score\n",
        "from sklearn import metrics\n",
        "import matplotlib.pyplot as plt"
      ],
      "execution_count": 4,
      "outputs": []
    },
    {
      "cell_type": "code",
      "metadata": {
        "id": "-bxXOVNuZKOE"
      },
      "source": [
        "url = 'https://raw.githubusercontent.com/divinoborges/miRNAs/tcc/mirnas.csv'\n",
        "df = pd.read_csv(url, sep=\",\")"
      ],
      "execution_count": 5,
      "outputs": []
    },
    {
      "cell_type": "code",
      "metadata": {
        "colab": {
          "base_uri": "https://localhost:8080/",
          "height": 206
        },
        "id": "9ukHa_sWZSTU",
        "outputId": "27634d86-f6c4-4e1e-f12a-7ccb455e0808"
      },
      "source": [
        "df.head(5)"
      ],
      "execution_count": 6,
      "outputs": [
        {
          "output_type": "execute_result",
          "data": {
            "text/html": [
              "<div>\n",
              "<style scoped>\n",
              "    .dataframe tbody tr th:only-of-type {\n",
              "        vertical-align: middle;\n",
              "    }\n",
              "\n",
              "    .dataframe tbody tr th {\n",
              "        vertical-align: top;\n",
              "    }\n",
              "\n",
              "    .dataframe thead th {\n",
              "        text-align: right;\n",
              "    }\n",
              "</style>\n",
              "<table border=\"1\" class=\"dataframe\">\n",
              "  <thead>\n",
              "    <tr style=\"text-align: right;\">\n",
              "      <th></th>\n",
              "      <th>FILE</th>\n",
              "      <th>MIRNA</th>\n",
              "      <th>READ</th>\n",
              "      <th>READS</th>\n",
              "      <th>classe</th>\n",
              "    </tr>\n",
              "  </thead>\n",
              "  <tbody>\n",
              "    <tr>\n",
              "      <th>0</th>\n",
              "      <td>1</td>\n",
              "      <td>1</td>\n",
              "      <td>8735</td>\n",
              "      <td>76124</td>\n",
              "      <td>1</td>\n",
              "    </tr>\n",
              "    <tr>\n",
              "      <th>1</th>\n",
              "      <td>1</td>\n",
              "      <td>2</td>\n",
              "      <td>8442</td>\n",
              "      <td>74836</td>\n",
              "      <td>1</td>\n",
              "    </tr>\n",
              "    <tr>\n",
              "      <th>2</th>\n",
              "      <td>1</td>\n",
              "      <td>3</td>\n",
              "      <td>8801</td>\n",
              "      <td>76411</td>\n",
              "      <td>1</td>\n",
              "    </tr>\n",
              "    <tr>\n",
              "      <th>3</th>\n",
              "      <td>1</td>\n",
              "      <td>4</td>\n",
              "      <td>23959</td>\n",
              "      <td>126073</td>\n",
              "      <td>1</td>\n",
              "    </tr>\n",
              "    <tr>\n",
              "      <th>4</th>\n",
              "      <td>1</td>\n",
              "      <td>5</td>\n",
              "      <td>7706</td>\n",
              "      <td>71499</td>\n",
              "      <td>1</td>\n",
              "    </tr>\n",
              "  </tbody>\n",
              "</table>\n",
              "</div>"
            ],
            "text/plain": [
              "   FILE  MIRNA   READ   READS  classe\n",
              "0     1      1   8735   76124       1\n",
              "1     1      2   8442   74836       1\n",
              "2     1      3   8801   76411       1\n",
              "3     1      4  23959  126073       1\n",
              "4     1      5   7706   71499       1"
            ]
          },
          "metadata": {},
          "execution_count": 6
        }
      ]
    },
    {
      "cell_type": "code",
      "metadata": {
        "colab": {
          "base_uri": "https://localhost:8080/"
        },
        "id": "M_yfQ5n2axxk",
        "outputId": "5da8ec07-0535-46cf-d8be-f333945e1908"
      },
      "source": [
        "df.dtypes"
      ],
      "execution_count": 7,
      "outputs": [
        {
          "output_type": "execute_result",
          "data": {
            "text/plain": [
              "FILE      int64\n",
              "MIRNA     int64\n",
              "READ      int64\n",
              "READS     int64\n",
              "classe    int64\n",
              "dtype: object"
            ]
          },
          "metadata": {},
          "execution_count": 7
        }
      ]
    },
    {
      "cell_type": "markdown",
      "metadata": {
        "id": "Nh8YBbg6Z9L_"
      },
      "source": [
        "### Armazenando as classes na variável *y*"
      ]
    },
    {
      "cell_type": "code",
      "metadata": {
        "colab": {
          "base_uri": "https://localhost:8080/"
        },
        "id": "dVVz8g6xaErl",
        "outputId": "cf7d2a76-cdc1-4a45-f92f-ee14f48a1c60"
      },
      "source": [
        "y = df['classe'].values\n",
        "y"
      ],
      "execution_count": 8,
      "outputs": [
        {
          "output_type": "execute_result",
          "data": {
            "text/plain": [
              "array([1, 1, 1, ..., 0, 0, 0])"
            ]
          },
          "metadata": {},
          "execution_count": 8
        }
      ]
    },
    {
      "cell_type": "markdown",
      "metadata": {
        "id": "2ZB6AOJccc1F"
      },
      "source": [
        "### Armazenando valores na variável *x*"
      ]
    },
    {
      "cell_type": "code",
      "metadata": {
        "colab": {
          "base_uri": "https://localhost:8080/"
        },
        "id": "IGUbtHrBcj30",
        "outputId": "04e03d3c-6157-4900-d8de-aaa5b529770c"
      },
      "source": [
        "x = df[['FILE', 'MIRNA', 'READ', 'READS']].values\n",
        "x"
      ],
      "execution_count": 9,
      "outputs": [
        {
          "output_type": "execute_result",
          "data": {
            "text/plain": [
              "array([[     1,      1,   8735,  76124],\n",
              "       [     1,      2,   8442,  74836],\n",
              "       [     1,      3,   8801,  76411],\n",
              "       ...,\n",
              "       [   552,   1879,     89,   5140],\n",
              "       [   552,   1880,   2863,  29150],\n",
              "       [   552,   1881,  34214, 100771]])"
            ]
          },
          "metadata": {},
          "execution_count": 9
        }
      ]
    },
    {
      "cell_type": "markdown",
      "metadata": {
        "id": "tiLF-MSHdMyx"
      },
      "source": [
        "### Modificando as dimensões dos dados"
      ]
    },
    {
      "cell_type": "code",
      "metadata": {
        "colab": {
          "base_uri": "https://localhost:8080/"
        },
        "id": "vU3eSAU9dRuh",
        "outputId": "597417f6-b866-4fd7-a131-b81f3ad08963"
      },
      "source": [
        "x = x.reshape((552, 1881, 4))\n",
        "x.shape"
      ],
      "execution_count": 10,
      "outputs": [
        {
          "output_type": "execute_result",
          "data": {
            "text/plain": [
              "(552, 1881, 4)"
            ]
          },
          "metadata": {},
          "execution_count": 10
        }
      ]
    },
    {
      "cell_type": "code",
      "metadata": {
        "colab": {
          "base_uri": "https://localhost:8080/"
        },
        "id": "VAB1jfIJdk8E",
        "outputId": "15465165-ef4c-4907-edea-0e1a3f8046d1"
      },
      "source": [
        "y = y.reshape((552, 1881))\n",
        "y.shape"
      ],
      "execution_count": 11,
      "outputs": [
        {
          "output_type": "execute_result",
          "data": {
            "text/plain": [
              "(552, 1881)"
            ]
          },
          "metadata": {},
          "execution_count": 11
        }
      ]
    },
    {
      "cell_type": "code",
      "metadata": {
        "colab": {
          "base_uri": "https://localhost:8080/"
        },
        "id": "fDLUJZkoeR8v",
        "outputId": "17a14efc-53bd-4233-c32d-f94477d85883"
      },
      "source": [
        "y_new = []\n",
        "\n",
        "for i in y:\n",
        "  y_new.append(i[0])\n",
        "\n",
        "y_new = np.array(y_new)\n",
        "y = y_new\n",
        "y.shape"
      ],
      "execution_count": 12,
      "outputs": [
        {
          "output_type": "execute_result",
          "data": {
            "text/plain": [
              "(552,)"
            ]
          },
          "metadata": {},
          "execution_count": 12
        }
      ]
    },
    {
      "cell_type": "markdown",
      "metadata": {
        "id": "JaAxt8tBHV36"
      },
      "source": [
        "### Separando dados"
      ]
    },
    {
      "cell_type": "code",
      "metadata": {
        "id": "iSq77s-WHYaX"
      },
      "source": [
        "x_training, x_validation, y_training, y_validation = train_test_split(x, y, test_size=0.1, random_state=5)"
      ],
      "execution_count": 13,
      "outputs": []
    },
    {
      "cell_type": "code",
      "metadata": {
        "colab": {
          "base_uri": "https://localhost:8080/"
        },
        "id": "Jt4zWZ_mHiIZ",
        "outputId": "105ddbc4-da5e-4bf9-caa7-4557bda17689"
      },
      "source": [
        "x_training.shape"
      ],
      "execution_count": 14,
      "outputs": [
        {
          "output_type": "execute_result",
          "data": {
            "text/plain": [
              "(496, 1881, 4)"
            ]
          },
          "metadata": {},
          "execution_count": 14
        }
      ]
    },
    {
      "cell_type": "markdown",
      "metadata": {
        "id": "X7WTdqMYfOfb"
      },
      "source": [
        "### Criando o modelo"
      ]
    },
    {
      "cell_type": "code",
      "metadata": {
        "colab": {
          "base_uri": "https://localhost:8080/"
        },
        "id": "iGGPe503GC4_",
        "outputId": "15cbbc02-7209-46b0-c3cf-c53e564bf95b"
      },
      "source": [
        "x.shape"
      ],
      "execution_count": 15,
      "outputs": [
        {
          "output_type": "execute_result",
          "data": {
            "text/plain": [
              "(552, 1881, 4)"
            ]
          },
          "metadata": {},
          "execution_count": 15
        }
      ]
    },
    {
      "cell_type": "code",
      "metadata": {
        "colab": {
          "base_uri": "https://localhost:8080/",
          "height": 152
        },
        "id": "_RfPBmIRfLF6",
        "outputId": "4ea2cfda-6af7-4cc0-cd6c-0949abdb782d"
      },
      "source": [
        "inputs = Input(shape=((x_training.shape[1], x_training.shape[2], 1)))\n",
        "\n",
        "conv1 = Conv2D(8, 3, padding='same', activation='relu')(inputs)\n",
        "conv2 = Conv2D(16, 3, padding='same', activation='relu')(conv1)\n",
        "pool1 = GlobalAveragePooling2D()(conv2)\n",
        "dense1 = Dense(64, activation='relu')(pool1)\n",
        "drop1 = Dropout(0.1)(dense1)\n",
        "\n",
        "outputs = Dense(1, activation='softmax')(drop1)\n",
        "\n",
        "model = tf.keras.Model(inputs, outputs)\n",
        "\n",
        "# print (model.summary())\n",
        "\n",
        "# custom_adam = optimizers.Adam(lr=0.0001)  # , decay=0.00003, amsgrad=True)\n",
        "model.compile(loss=tf.keras.losses.BinaryCrossentropy(from_logits=True), optimizer='adam', metrics=['acc', 'mae'])\n",
        "\n",
        "tf.keras.utils.plot_model(model, show_shapes=True, rankdir=\"LR\")\n"
      ],
      "execution_count": 37,
      "outputs": [
        {
          "output_type": "execute_result",
          "data": {
            "image/png": "[encoded data removed]",
            "text/plain": [
              "<IPython.core.display.Image object>"
            ]
          },
          "metadata": {},
          "execution_count": 37
        }
      ]
    },
    {
      "cell_type": "markdown",
      "metadata": {
        "id": "uFMNn1uCfbEQ"
      },
      "source": [
        "### Treinando o modelo"
      ]
    },
    {
      "cell_type": "code",
      "metadata": {
        "colab": {
          "base_uri": "https://localhost:8080/"
        },
        "id": "Oo-RBQorgL6-",
        "outputId": "bb72a37a-7cd9-46ff-a077-e30514547f9b"
      },
      "source": [
        "history = model.fit(x_training, y_training, epochs=10, validation_split=0.2, shuffle=True)"
      ],
      "execution_count": 43,
      "outputs": [
        {
          "output_type": "stream",
          "name": "stdout",
          "text": [
            "Epoch 1/10\n",
            "13/13 [==============================] - ETA: 0s - loss: 3.4739 - acc: 0.9217 - mae: 0.0783"
          ]
        },
        {
          "output_type": "stream",
          "name": "stderr",
          "text": [
            "/usr/local/lib/python3.7/dist-packages/tensorflow/python/util/dispatch.py:1096: UserWarning: \"`binary_crossentropy` received `from_logits=True`, but the `output` argument was produced by a sigmoid or softmax activation and thus does not represent logits. Was this intended?\"\n",
            "  return dispatch_target(*args, **kwargs)\n"
          ]
        },
        {
          "output_type": "stream",
          "name": "stdout",
          "text": [
            "13/13 [==============================] - 3s 200ms/step - loss: 3.4739 - acc: 0.9217 - mae: 0.0783 - val_loss: 1.4256 - val_acc: 0.9400 - val_mae: 0.0600\n",
            "Epoch 2/10\n",
            "13/13 [==============================] - 2s 185ms/step - loss: 3.6020 - acc: 0.9217 - mae: 0.0783 - val_loss: 2.0198 - val_acc: 0.9400 - val_mae: 0.0600\n",
            "Epoch 3/10\n",
            "13/13 [==============================] - 2s 187ms/step - loss: 2.6009 - acc: 0.9217 - mae: 0.0783 - val_loss: 0.9116 - val_acc: 0.9400 - val_mae: 0.0600\n",
            "Epoch 4/10\n",
            "13/13 [==============================] - 2s 183ms/step - loss: 1.9385 - acc: 0.9217 - mae: 0.0783 - val_loss: 1.0332 - val_acc: 0.9400 - val_mae: 0.0600\n",
            "Epoch 5/10\n",
            "13/13 [==============================] - 2s 185ms/step - loss: 2.0212 - acc: 0.9217 - mae: 0.0783 - val_loss: 1.1716 - val_acc: 0.9400 - val_mae: 0.0600\n",
            "Epoch 6/10\n",
            "13/13 [==============================] - 2s 187ms/step - loss: 1.7361 - acc: 0.9217 - mae: 0.0783 - val_loss: 1.4549 - val_acc: 0.9400 - val_mae: 0.0600\n",
            "Epoch 7/10\n",
            "13/13 [==============================] - 2s 188ms/step - loss: 1.6706 - acc: 0.9217 - mae: 0.0783 - val_loss: 0.8189 - val_acc: 0.9400 - val_mae: 0.0600\n",
            "Epoch 8/10\n",
            "13/13 [==============================] - 2s 185ms/step - loss: 1.2296 - acc: 0.9217 - mae: 0.0783 - val_loss: 0.7785 - val_acc: 0.9400 - val_mae: 0.0600\n",
            "Epoch 9/10\n",
            "13/13 [==============================] - 2s 185ms/step - loss: 0.8853 - acc: 0.9217 - mae: 0.0783 - val_loss: 0.2791 - val_acc: 0.9400 - val_mae: 0.0600\n",
            "Epoch 10/10\n",
            "13/13 [==============================] - 2s 185ms/step - loss: 1.0127 - acc: 0.9217 - mae: 0.0783 - val_loss: 0.1660 - val_acc: 0.9400 - val_mae: 0.0600\n"
          ]
        }
      ]
    },
    {
      "cell_type": "code",
      "metadata": {
        "colab": {
          "base_uri": "https://localhost:8080/"
        },
        "id": "vF8DVtvqG_m5",
        "outputId": "318fa802-8f4d-4031-8b56-706fdff50589"
      },
      "source": [
        "model.evaluate(x_validation, y_validation)\n"
      ],
      "execution_count": 44,
      "outputs": [
        {
          "output_type": "stream",
          "name": "stdout",
          "text": [
            "2/2 [==============================] - 0s 54ms/step - loss: 0.1564 - acc: 0.9464 - mae: 0.0536\n"
          ]
        },
        {
          "output_type": "execute_result",
          "data": {
            "text/plain": [
              "[0.1563623994588852, 0.9464285969734192, 0.0535714291036129]"
            ]
          },
          "metadata": {},
          "execution_count": 44
        }
      ]
    },
    {
      "cell_type": "markdown",
      "metadata": {
        "id": "U7MB-NeoIvPF"
      },
      "source": [
        "### Realizando predições"
      ]
    },
    {
      "cell_type": "code",
      "metadata": {
        "colab": {
          "base_uri": "https://localhost:8080/"
        },
        "id": "1yT_sitCIsMn",
        "outputId": "073bf958-f133-4d61-c3f0-ac454f72bb07"
      },
      "source": [
        "y_pred = model.predict(x_training[:10])\n",
        "y_pred"
      ],
      "execution_count": 45,
      "outputs": [
        {
          "output_type": "execute_result",
          "data": {
            "text/plain": [
              "array([[1.],\n",
              "       [1.],\n",
              "       [1.],\n",
              "       [1.],\n",
              "       [1.],\n",
              "       [1.],\n",
              "       [1.],\n",
              "       [1.],\n",
              "       [1.],\n",
              "       [1.]], dtype=float32)"
            ]
          },
          "metadata": {},
          "execution_count": 45
        }
      ]
    },
    {
      "cell_type": "markdown",
      "metadata": {
        "id": "yhrPvI62MCx2"
      },
      "source": [
        "### Avaliando métricas"
      ]
    },
    {
      "cell_type": "code",
      "metadata": {
        "colab": {
          "base_uri": "https://localhost:8080/"
        },
        "id": "D7ZwZjK0L6ow",
        "outputId": "f3fd9177-c9cb-4e9b-9d98-8398f95b5cde"
      },
      "source": [
        "model.summary()"
      ],
      "execution_count": 46,
      "outputs": [
        {
          "output_type": "stream",
          "name": "stdout",
          "text": [
            "Model: \"model_2\"\n",
            "_________________________________________________________________\n",
            " Layer (type)                Output Shape              Param #   \n",
            "=================================================================\n",
            " input_3 (InputLayer)        [(None, 1881, 4, 1)]      0         \n",
            "                                                                 \n",
            " conv2d_4 (Conv2D)           (None, 1881, 4, 8)        80        \n",
            "                                                                 \n",
            " conv2d_5 (Conv2D)           (None, 1881, 4, 16)       1168      \n",
            "                                                                 \n",
            " global_average_pooling2d_2   (None, 16)               0         \n",
            " (GlobalAveragePooling2D)                                        \n",
            "                                                                 \n",
            " dense_4 (Dense)             (None, 64)                1088      \n",
            "                                                                 \n",
            " dropout_2 (Dropout)         (None, 64)                0         \n",
            "                                                                 \n",
            " dense_5 (Dense)             (None, 1)                 65        \n",
            "                                                                 \n",
            "=================================================================\n",
            "Total params: 2,401\n",
            "Trainable params: 2,401\n",
            "Non-trainable params: 0\n",
            "_________________________________________________________________\n"
          ]
        }
      ]
    },
    {
      "cell_type": "markdown",
      "metadata": {
        "id": "OMCeBKqQSOhp"
      },
      "source": [
        "Matriz de confusão"
      ]
    },
    {
      "cell_type": "code",
      "metadata": {
        "colab": {
          "base_uri": "https://localhost:8080/"
        },
        "id": "5U_HtpoiRcv1",
        "outputId": "f18feb72-81a4-425b-e20d-de421db8e638"
      },
      "source": [
        "confusion_matrix(y_training[:10], y_pred)"
      ],
      "execution_count": 47,
      "outputs": [
        {
          "output_type": "execute_result",
          "data": {
            "text/plain": [
              "array([[10]])"
            ]
          },
          "metadata": {},
          "execution_count": 47
        }
      ]
    },
    {
      "cell_type": "markdown",
      "metadata": {
        "id": "4ny1ajumTHx2"
      },
      "source": [
        "Precisão"
      ]
    },
    {
      "cell_type": "code",
      "metadata": {
        "colab": {
          "base_uri": "https://localhost:8080/"
        },
        "id": "h1n8E8KJSoHD",
        "outputId": "1b3f97c0-b6c1-469f-8df9-d0bed59d158c"
      },
      "source": [
        "precision_score(y_training[:10], y_pred, average='macro')"
      ],
      "execution_count": 48,
      "outputs": [
        {
          "output_type": "execute_result",
          "data": {
            "text/plain": [
              "1.0"
            ]
          },
          "metadata": {},
          "execution_count": 48
        }
      ]
    },
    {
      "cell_type": "markdown",
      "metadata": {
        "id": "J2Y9Xs65TRLs"
      },
      "source": [
        "Recall"
      ]
    },
    {
      "cell_type": "code",
      "metadata": {
        "colab": {
          "base_uri": "https://localhost:8080/"
        },
        "id": "FBdaIsEzTJsC",
        "outputId": "166946e1-500a-4890-93c3-a4e98af7b17e"
      },
      "source": [
        "recall_score(y_training[:10], y_pred, average='macro')"
      ],
      "execution_count": 23,
      "outputs": [
        {
          "output_type": "execute_result",
          "data": {
            "text/plain": [
              "1.0"
            ]
          },
          "metadata": {},
          "execution_count": 23
        }
      ]
    },
    {
      "cell_type": "code",
      "metadata": {
        "colab": {
          "base_uri": "https://localhost:8080/"
        },
        "id": "1tr_DCpmTZmU",
        "outputId": "761fc480-fe4a-42c0-bb5c-9bc2846a0118"
      },
      "source": [
        "f1_score(y_training[:10], y_pred, average=None)"
      ],
      "execution_count": 24,
      "outputs": [
        {
          "output_type": "execute_result",
          "data": {
            "text/plain": [
              "array([1.])"
            ]
          },
          "metadata": {},
          "execution_count": 24
        }
      ]
    },
    {
      "cell_type": "code",
      "metadata": {
        "colab": {
          "base_uri": "https://localhost:8080/",
          "height": 590
        },
        "id": "UZd54wTlb4eq",
        "outputId": "85db2355-f6be-4b39-983a-13195b55a050"
      },
      "source": [
        "print(history.history.keys())\n",
        "# summarize history for accuracy\n",
        "plt.plot(history.history['acc'])\n",
        "plt.plot(history.history['val_acc'])\n",
        "plt.title('model accuracy')\n",
        "plt.ylabel('accuracy')\n",
        "plt.xlabel('epoch')\n",
        "plt.legend(['train', 'test'], loc='upper left')\n",
        "plt.show()\n",
        "# summarize history for loss\n",
        "plt.plot(history.history['loss'])\n",
        "plt.plot(history.history['val_loss'])\n",
        "plt.title('model loss')\n",
        "plt.ylabel('loss')\n",
        "plt.xlabel('epoch')\n",
        "plt.legend(['train', 'test'], loc='upper left')\n",
        "plt.show()"
      ],
      "execution_count": 50,
      "outputs": [
        {
          "output_type": "stream",
          "name": "stdout",
          "text": [
            "dict_keys(['loss', 'acc', 'mae', 'val_loss', 'val_acc', 'val_mae'])\n"
          ]
        },
        {
          "output_type": "display_data",
          "data": {
            "image/png": "[encoded data removed]",
            "text/plain": [
              "<Figure size 432x288 with 1 Axes>"
            ]
          },
          "metadata": {
            "needs_background": "light"
          }
        },
        {
          "output_type": "display_data",
          "data": {
            "image/png": "[encoded data removed]",
            "text/plain": [
              "<Figure size 432x288 with 1 Axes>"
            ]
          },
          "metadata": {
            "needs_background": "light"
          }
        }
      ]
    },
    {
      "cell_type": "markdown",
      "metadata": {
        "id": "o4ia9Hc8s1rd"
      },
      "source": [
        "# 1D"
      ]
    },
    {
      "cell_type": "code",
      "metadata": {
        "id": "uXipUye_s8dU",
        "colab": {
          "base_uri": "https://localhost:8080/"
        },
        "outputId": "5dd2dd31-1718-4ec1-b349-a1f14fa8bc59"
      },
      "source": [
        "from google.colab import drive\n",
        "import numpy as np\n",
        "import pandas as pd\n",
        "import tensorflow as tf\n",
        "from keras import optimizers, regularizers\n",
        "from keras.callbacks import ModelCheckpoint\n",
        "from keras.layers.core import Dense, Dropout\n",
        "from keras.layers.convolutional import Conv1D, Conv2D, UpSampling2D, Conv2DTranspose\n",
        "from keras.layers.pooling import MaxPooling2D, GlobalAveragePooling2D, GlobalAveragePooling1D\n",
        "from keras.layers import Input, Concatenate, add\n",
        "from keras import optimizers\n",
        "from sklearn.model_selection import train_test_split\n",
        "from tensorflow.keras import layers\n",
        "from tensorflow.keras.layers.experimental import preprocessing\n",
        "from sklearn.metrics import confusion_matrix\n",
        "from sklearn.metrics import precision_score\n",
        "from sklearn.metrics import recall_score\n",
        "from sklearn.metrics import f1_score\n",
        "from sklearn import metrics\n",
        "drive.mount('/content/drive')"
      ],
      "execution_count": null,
      "outputs": [
        {
          "output_type": "stream",
          "name": "stdout",
          "text": [
            "Drive already mounted at /content/drive; to attempt to forcibly remount, call drive.mount(\"/content/drive\", force_remount=True).\n"
          ]
        }
      ]
    },
    {
      "cell_type": "markdown",
      "metadata": {
        "id": "S5IIcN43mQJ5"
      },
      "source": [
        "### Lendo e tratando os dados concatenados de X"
      ]
    },
    {
      "cell_type": "code",
      "metadata": {
        "id": "_oWs5Q7Ns8dX",
        "colab": {
          "base_uri": "https://localhost:8080/"
        },
        "outputId": "21c82e4f-7f4d-4f07-8825-44937b48ad33"
      },
      "source": [
        "concatx_url = '/content/drive/My Drive/concatx.csv'\n",
        "df_x = pd.read_csv(concatx_url, sep=\";\", header=None)"
      ],
      "execution_count": null,
      "outputs": [
        {
          "output_type": "stream",
          "name": "stderr",
          "text": [
            "/usr/local/lib/python3.7/dist-packages/IPython/core/interactiveshell.py:2718: DtypeWarning: Columns (3763) have mixed types.Specify dtype option on import or set low_memory=False.\n",
            "  interactivity=interactivity, compiler=compiler, result=result)\n"
          ]
        }
      ]
    },
    {
      "cell_type": "code",
      "metadata": {
        "id": "2FiOo0SZkS_s"
      },
      "source": [
        "df_x = df_x.drop(3763, 1)\n",
        "df_x = df_x.drop(0, 1)\n",
        "df_x = df_x.drop(0, 0)"
      ],
      "execution_count": null,
      "outputs": []
    },
    {
      "cell_type": "code",
      "metadata": {
        "colab": {
          "base_uri": "https://localhost:8080/",
          "height": 256
        },
        "id": "IXWDuhbjs8dY",
        "outputId": "9452d26e-8715-4e49-efd9-22eb07e08233"
      },
      "source": [
        "df_x.head(5)"
      ],
      "execution_count": null,
      "outputs": [
        {
          "output_type": "execute_result",
          "data": {
            "text/html": [
              "<div>\n",
              "<style scoped>\n",
              "    .dataframe tbody tr th:only-of-type {\n",
              "        vertical-align: middle;\n",
              "    }\n",
              "\n",
              "    .dataframe tbody tr th {\n",
              "        vertical-align: top;\n",
              "    }\n",
              "\n",
              "    .dataframe thead th {\n",
              "        text-align: right;\n",
              "    }\n",
              "</style>\n",
              "<table border=\"1\" class=\"dataframe\">\n",
              "  <thead>\n",
              "    <tr style=\"text-align: right;\">\n",
              "      <th></th>\n",
              "      <th>1</th>\n",
              "      <th>2</th>\n",
              "      <th>3</th>\n",
              "      <th>4</th>\n",
              "      <th>5</th>\n",
              "      <th>6</th>\n",
              "      <th>7</th>\n",
              "      <th>8</th>\n",
              "      <th>9</th>\n",
              "      <th>10</th>\n",
              "      <th>11</th>\n",
              "      <th>12</th>\n",
              "      <th>13</th>\n",
              "      <th>14</th>\n",
              "      <th>15</th>\n",
              "      <th>16</th>\n",
              "      <th>17</th>\n",
              "      <th>18</th>\n",
              "      <th>19</th>\n",
              "      <th>20</th>\n",
              "      <th>21</th>\n",
              "      <th>22</th>\n",
              "      <th>23</th>\n",
              "      <th>24</th>\n",
              "      <th>25</th>\n",
              "      <th>26</th>\n",
              "      <th>27</th>\n",
              "      <th>28</th>\n",
              "      <th>29</th>\n",
              "      <th>30</th>\n",
              "      <th>31</th>\n",
              "      <th>32</th>\n",
              "      <th>33</th>\n",
              "      <th>34</th>\n",
              "      <th>35</th>\n",
              "      <th>36</th>\n",
              "      <th>37</th>\n",
              "      <th>38</th>\n",
              "      <th>39</th>\n",
              "      <th>40</th>\n",
              "      <th>...</th>\n",
              "      <th>3723</th>\n",
              "      <th>3724</th>\n",
              "      <th>3725</th>\n",
              "      <th>3726</th>\n",
              "      <th>3727</th>\n",
              "      <th>3728</th>\n",
              "      <th>3729</th>\n",
              "      <th>3730</th>\n",
              "      <th>3731</th>\n",
              "      <th>3732</th>\n",
              "      <th>3733</th>\n",
              "      <th>3734</th>\n",
              "      <th>3735</th>\n",
              "      <th>3736</th>\n",
              "      <th>3737</th>\n",
              "      <th>3738</th>\n",
              "      <th>3739</th>\n",
              "      <th>3740</th>\n",
              "      <th>3741</th>\n",
              "      <th>3742</th>\n",
              "      <th>3743</th>\n",
              "      <th>3744</th>\n",
              "      <th>3745</th>\n",
              "      <th>3746</th>\n",
              "      <th>3747</th>\n",
              "      <th>3748</th>\n",
              "      <th>3749</th>\n",
              "      <th>3750</th>\n",
              "      <th>3751</th>\n",
              "      <th>3752</th>\n",
              "      <th>3753</th>\n",
              "      <th>3754</th>\n",
              "      <th>3755</th>\n",
              "      <th>3756</th>\n",
              "      <th>3757</th>\n",
              "      <th>3758</th>\n",
              "      <th>3759</th>\n",
              "      <th>3760</th>\n",
              "      <th>3761</th>\n",
              "      <th>3762</th>\n",
              "    </tr>\n",
              "  </thead>\n",
              "  <tbody>\n",
              "    <tr>\n",
              "      <th>1</th>\n",
              "      <td>8735</td>\n",
              "      <td>8442</td>\n",
              "      <td>8801</td>\n",
              "      <td>23959</td>\n",
              "      <td>7706</td>\n",
              "      <td>1538</td>\n",
              "      <td>889</td>\n",
              "      <td>2534</td>\n",
              "      <td>2582</td>\n",
              "      <td>1893</td>\n",
              "      <td>1651</td>\n",
              "      <td>1</td>\n",
              "      <td>4</td>\n",
              "      <td>3483</td>\n",
              "      <td>6100</td>\n",
              "      <td>5875</td>\n",
              "      <td>9755</td>\n",
              "      <td>9944</td>\n",
              "      <td>0</td>\n",
              "      <td>0</td>\n",
              "      <td>0</td>\n",
              "      <td>1</td>\n",
              "      <td>419</td>\n",
              "      <td>5809</td>\n",
              "      <td>222</td>\n",
              "      <td>12931</td>\n",
              "      <td>30635</td>\n",
              "      <td>0</td>\n",
              "      <td>0</td>\n",
              "      <td>64</td>\n",
              "      <td>0</td>\n",
              "      <td>0</td>\n",
              "      <td>0</td>\n",
              "      <td>0</td>\n",
              "      <td>0</td>\n",
              "      <td>0</td>\n",
              "      <td>2</td>\n",
              "      <td>1</td>\n",
              "      <td>0</td>\n",
              "      <td>0</td>\n",
              "      <td>...</td>\n",
              "      <td>2821</td>\n",
              "      <td>0</td>\n",
              "      <td>0</td>\n",
              "      <td>0</td>\n",
              "      <td>0</td>\n",
              "      <td>0</td>\n",
              "      <td>0</td>\n",
              "      <td>97872</td>\n",
              "      <td>97423</td>\n",
              "      <td>98382</td>\n",
              "      <td>0</td>\n",
              "      <td>0</td>\n",
              "      <td>0</td>\n",
              "      <td>0</td>\n",
              "      <td>64920</td>\n",
              "      <td>62742</td>\n",
              "      <td>10988</td>\n",
              "      <td>128886</td>\n",
              "      <td>0</td>\n",
              "      <td>0</td>\n",
              "      <td>3550</td>\n",
              "      <td>0</td>\n",
              "      <td>0</td>\n",
              "      <td>0</td>\n",
              "      <td>1411</td>\n",
              "      <td>2937</td>\n",
              "      <td>0</td>\n",
              "      <td>0</td>\n",
              "      <td>0</td>\n",
              "      <td>0</td>\n",
              "      <td>0</td>\n",
              "      <td>3820</td>\n",
              "      <td>0</td>\n",
              "      <td>9533</td>\n",
              "      <td>4607</td>\n",
              "      <td>0</td>\n",
              "      <td>8581</td>\n",
              "      <td>8922</td>\n",
              "      <td>49026</td>\n",
              "      <td>155620</td>\n",
              "    </tr>\n",
              "    <tr>\n",
              "      <th>2</th>\n",
              "      <td>35173</td>\n",
              "      <td>35187</td>\n",
              "      <td>35476</td>\n",
              "      <td>47475</td>\n",
              "      <td>5295</td>\n",
              "      <td>1503</td>\n",
              "      <td>5116</td>\n",
              "      <td>15442</td>\n",
              "      <td>15725</td>\n",
              "      <td>1824</td>\n",
              "      <td>3027</td>\n",
              "      <td>12</td>\n",
              "      <td>9</td>\n",
              "      <td>8847</td>\n",
              "      <td>22184</td>\n",
              "      <td>22170</td>\n",
              "      <td>74151</td>\n",
              "      <td>74671</td>\n",
              "      <td>0</td>\n",
              "      <td>0</td>\n",
              "      <td>110</td>\n",
              "      <td>120</td>\n",
              "      <td>21</td>\n",
              "      <td>2512</td>\n",
              "      <td>640</td>\n",
              "      <td>11536</td>\n",
              "      <td>45312</td>\n",
              "      <td>0</td>\n",
              "      <td>0</td>\n",
              "      <td>79</td>\n",
              "      <td>0</td>\n",
              "      <td>0</td>\n",
              "      <td>0</td>\n",
              "      <td>0</td>\n",
              "      <td>0</td>\n",
              "      <td>0</td>\n",
              "      <td>1</td>\n",
              "      <td>0</td>\n",
              "      <td>0</td>\n",
              "      <td>3</td>\n",
              "      <td>...</td>\n",
              "      <td>5007</td>\n",
              "      <td>0</td>\n",
              "      <td>0</td>\n",
              "      <td>0</td>\n",
              "      <td>0</td>\n",
              "      <td>0</td>\n",
              "      <td>0</td>\n",
              "      <td>19401</td>\n",
              "      <td>19246</td>\n",
              "      <td>19495</td>\n",
              "      <td>0</td>\n",
              "      <td>0</td>\n",
              "      <td>0</td>\n",
              "      <td>0</td>\n",
              "      <td>68222</td>\n",
              "      <td>66193</td>\n",
              "      <td>10024</td>\n",
              "      <td>51794</td>\n",
              "      <td>0</td>\n",
              "      <td>0</td>\n",
              "      <td>3070</td>\n",
              "      <td>0</td>\n",
              "      <td>2815</td>\n",
              "      <td>0</td>\n",
              "      <td>0</td>\n",
              "      <td>1603</td>\n",
              "      <td>0</td>\n",
              "      <td>0</td>\n",
              "      <td>0</td>\n",
              "      <td>0</td>\n",
              "      <td>0</td>\n",
              "      <td>2927</td>\n",
              "      <td>0</td>\n",
              "      <td>11422</td>\n",
              "      <td>1309</td>\n",
              "      <td>0</td>\n",
              "      <td>3464</td>\n",
              "      <td>6595</td>\n",
              "      <td>14393</td>\n",
              "      <td>109649</td>\n",
              "    </tr>\n",
              "    <tr>\n",
              "      <th>3</th>\n",
              "      <td>32653</td>\n",
              "      <td>32514</td>\n",
              "      <td>32383</td>\n",
              "      <td>29587</td>\n",
              "      <td>9656</td>\n",
              "      <td>2539</td>\n",
              "      <td>2136</td>\n",
              "      <td>25402</td>\n",
              "      <td>25993</td>\n",
              "      <td>2778</td>\n",
              "      <td>2515</td>\n",
              "      <td>30</td>\n",
              "      <td>28</td>\n",
              "      <td>16909</td>\n",
              "      <td>16125</td>\n",
              "      <td>16055</td>\n",
              "      <td>44949</td>\n",
              "      <td>44516</td>\n",
              "      <td>0</td>\n",
              "      <td>0</td>\n",
              "      <td>188</td>\n",
              "      <td>175</td>\n",
              "      <td>11</td>\n",
              "      <td>3341</td>\n",
              "      <td>237</td>\n",
              "      <td>87284</td>\n",
              "      <td>101893</td>\n",
              "      <td>0</td>\n",
              "      <td>0</td>\n",
              "      <td>114</td>\n",
              "      <td>1</td>\n",
              "      <td>0</td>\n",
              "      <td>0</td>\n",
              "      <td>0</td>\n",
              "      <td>0</td>\n",
              "      <td>0</td>\n",
              "      <td>0</td>\n",
              "      <td>0</td>\n",
              "      <td>0</td>\n",
              "      <td>0</td>\n",
              "      <td>...</td>\n",
              "      <td>2734</td>\n",
              "      <td>0</td>\n",
              "      <td>1166</td>\n",
              "      <td>0</td>\n",
              "      <td>0</td>\n",
              "      <td>0</td>\n",
              "      <td>0</td>\n",
              "      <td>20949</td>\n",
              "      <td>20655</td>\n",
              "      <td>20365</td>\n",
              "      <td>0</td>\n",
              "      <td>0</td>\n",
              "      <td>0</td>\n",
              "      <td>0</td>\n",
              "      <td>76089</td>\n",
              "      <td>73480</td>\n",
              "      <td>7531</td>\n",
              "      <td>74578</td>\n",
              "      <td>0</td>\n",
              "      <td>1428</td>\n",
              "      <td>4283</td>\n",
              "      <td>0</td>\n",
              "      <td>1009</td>\n",
              "      <td>0</td>\n",
              "      <td>1542</td>\n",
              "      <td>3448</td>\n",
              "      <td>0</td>\n",
              "      <td>0</td>\n",
              "      <td>0</td>\n",
              "      <td>0</td>\n",
              "      <td>0</td>\n",
              "      <td>4162</td>\n",
              "      <td>0</td>\n",
              "      <td>17792</td>\n",
              "      <td>2734</td>\n",
              "      <td>0</td>\n",
              "      <td>5769</td>\n",
              "      <td>9451</td>\n",
              "      <td>26362</td>\n",
              "      <td>120333</td>\n",
              "    </tr>\n",
              "    <tr>\n",
              "      <th>4</th>\n",
              "      <td>63110</td>\n",
              "      <td>63501</td>\n",
              "      <td>63008</td>\n",
              "      <td>75246</td>\n",
              "      <td>6530</td>\n",
              "      <td>2727</td>\n",
              "      <td>8017</td>\n",
              "      <td>30976</td>\n",
              "      <td>31283</td>\n",
              "      <td>1839</td>\n",
              "      <td>2141</td>\n",
              "      <td>7944</td>\n",
              "      <td>8287</td>\n",
              "      <td>19535</td>\n",
              "      <td>31623</td>\n",
              "      <td>32384</td>\n",
              "      <td>40136</td>\n",
              "      <td>40177</td>\n",
              "      <td>0</td>\n",
              "      <td>0</td>\n",
              "      <td>0</td>\n",
              "      <td>1</td>\n",
              "      <td>25</td>\n",
              "      <td>3441</td>\n",
              "      <td>518</td>\n",
              "      <td>16911</td>\n",
              "      <td>110782</td>\n",
              "      <td>0</td>\n",
              "      <td>1</td>\n",
              "      <td>108</td>\n",
              "      <td>4</td>\n",
              "      <td>0</td>\n",
              "      <td>0</td>\n",
              "      <td>0</td>\n",
              "      <td>0</td>\n",
              "      <td>0</td>\n",
              "      <td>3</td>\n",
              "      <td>1</td>\n",
              "      <td>1</td>\n",
              "      <td>2</td>\n",
              "      <td>...</td>\n",
              "      <td>5001</td>\n",
              "      <td>0</td>\n",
              "      <td>2418</td>\n",
              "      <td>0</td>\n",
              "      <td>0</td>\n",
              "      <td>0</td>\n",
              "      <td>0</td>\n",
              "      <td>8046</td>\n",
              "      <td>8108</td>\n",
              "      <td>8033</td>\n",
              "      <td>0</td>\n",
              "      <td>0</td>\n",
              "      <td>0</td>\n",
              "      <td>0</td>\n",
              "      <td>58286</td>\n",
              "      <td>56364</td>\n",
              "      <td>12249</td>\n",
              "      <td>45637</td>\n",
              "      <td>0</td>\n",
              "      <td>0</td>\n",
              "      <td>1489</td>\n",
              "      <td>0</td>\n",
              "      <td>3300</td>\n",
              "      <td>0</td>\n",
              "      <td>1420</td>\n",
              "      <td>2154</td>\n",
              "      <td>0</td>\n",
              "      <td>0</td>\n",
              "      <td>0</td>\n",
              "      <td>0</td>\n",
              "      <td>0</td>\n",
              "      <td>2580</td>\n",
              "      <td>0</td>\n",
              "      <td>9505</td>\n",
              "      <td>5389</td>\n",
              "      <td>0</td>\n",
              "      <td>2732</td>\n",
              "      <td>8603</td>\n",
              "      <td>17450</td>\n",
              "      <td>118126</td>\n",
              "    </tr>\n",
              "    <tr>\n",
              "      <th>5</th>\n",
              "      <td>40067</td>\n",
              "      <td>39849</td>\n",
              "      <td>40175</td>\n",
              "      <td>44984</td>\n",
              "      <td>2268</td>\n",
              "      <td>2649</td>\n",
              "      <td>5055</td>\n",
              "      <td>23009</td>\n",
              "      <td>23125</td>\n",
              "      <td>2012</td>\n",
              "      <td>3020</td>\n",
              "      <td>1235</td>\n",
              "      <td>1381</td>\n",
              "      <td>7605</td>\n",
              "      <td>7964</td>\n",
              "      <td>8213</td>\n",
              "      <td>104141</td>\n",
              "      <td>103838</td>\n",
              "      <td>0</td>\n",
              "      <td>0</td>\n",
              "      <td>494</td>\n",
              "      <td>510</td>\n",
              "      <td>26</td>\n",
              "      <td>2653</td>\n",
              "      <td>290</td>\n",
              "      <td>20004</td>\n",
              "      <td>97000</td>\n",
              "      <td>0</td>\n",
              "      <td>0</td>\n",
              "      <td>128</td>\n",
              "      <td>1</td>\n",
              "      <td>0</td>\n",
              "      <td>0</td>\n",
              "      <td>0</td>\n",
              "      <td>0</td>\n",
              "      <td>0</td>\n",
              "      <td>1</td>\n",
              "      <td>0</td>\n",
              "      <td>0</td>\n",
              "      <td>0</td>\n",
              "      <td>...</td>\n",
              "      <td>3425</td>\n",
              "      <td>0</td>\n",
              "      <td>0</td>\n",
              "      <td>0</td>\n",
              "      <td>0</td>\n",
              "      <td>0</td>\n",
              "      <td>0</td>\n",
              "      <td>8439</td>\n",
              "      <td>7853</td>\n",
              "      <td>7800</td>\n",
              "      <td>0</td>\n",
              "      <td>0</td>\n",
              "      <td>0</td>\n",
              "      <td>0</td>\n",
              "      <td>99116</td>\n",
              "      <td>93012</td>\n",
              "      <td>9226</td>\n",
              "      <td>120522</td>\n",
              "      <td>0</td>\n",
              "      <td>0</td>\n",
              "      <td>1045</td>\n",
              "      <td>0</td>\n",
              "      <td>3001</td>\n",
              "      <td>0</td>\n",
              "      <td>1045</td>\n",
              "      <td>1732</td>\n",
              "      <td>0</td>\n",
              "      <td>0</td>\n",
              "      <td>0</td>\n",
              "      <td>0</td>\n",
              "      <td>0</td>\n",
              "      <td>6136</td>\n",
              "      <td>0</td>\n",
              "      <td>17332</td>\n",
              "      <td>1477</td>\n",
              "      <td>0</td>\n",
              "      <td>4844</td>\n",
              "      <td>8834</td>\n",
              "      <td>10957</td>\n",
              "      <td>154370</td>\n",
              "    </tr>\n",
              "  </tbody>\n",
              "</table>\n",
              "<p>5 rows × 3762 columns</p>\n",
              "</div>"
            ],
            "text/plain": [
              "    1      2      3      4     5     ...  3758  3759  3760   3761    3762\n",
              "1   8735   8442   8801  23959  7706  ...     0  8581  8922  49026  155620\n",
              "2  35173  35187  35476  47475  5295  ...     0  3464  6595  14393  109649\n",
              "3  32653  32514  32383  29587  9656  ...     0  5769  9451  26362  120333\n",
              "4  63110  63501  63008  75246  6530  ...     0  2732  8603  17450  118126\n",
              "5  40067  39849  40175  44984  2268  ...     0  4844  8834  10957  154370\n",
              "\n",
              "[5 rows x 3762 columns]"
            ]
          },
          "metadata": {},
          "execution_count": 140
        }
      ]
    },
    {
      "cell_type": "code",
      "metadata": {
        "colab": {
          "base_uri": "https://localhost:8080/"
        },
        "id": "HGch5rMNs8da",
        "outputId": "2a9ffc0e-de9c-4f95-9d2c-ec8b6c37f30d"
      },
      "source": [
        "df_x.dtypes"
      ],
      "execution_count": null,
      "outputs": [
        {
          "output_type": "execute_result",
          "data": {
            "text/plain": [
              "1       int64\n",
              "2       int64\n",
              "3       int64\n",
              "4       int64\n",
              "5       int64\n",
              "        ...  \n",
              "3758    int64\n",
              "3759    int64\n",
              "3760    int64\n",
              "3761    int64\n",
              "3762    int64\n",
              "Length: 3762, dtype: object"
            ]
          },
          "metadata": {},
          "execution_count": 141
        }
      ]
    },
    {
      "cell_type": "code",
      "metadata": {
        "colab": {
          "base_uri": "https://localhost:8080/"
        },
        "id": "EIj7BkDGl8m-",
        "outputId": "ed10ddb9-53de-4db1-cb90-b05e582f90f6"
      },
      "source": [
        "df_x.shape"
      ],
      "execution_count": null,
      "outputs": [
        {
          "output_type": "execute_result",
          "data": {
            "text/plain": [
              "(552, 3762)"
            ]
          },
          "metadata": {},
          "execution_count": 142
        }
      ]
    },
    {
      "cell_type": "markdown",
      "metadata": {
        "id": "Mwb6y6cpmYHb"
      },
      "source": [
        "### Lendo e tratando os dados concatenados de Y"
      ]
    },
    {
      "cell_type": "code",
      "metadata": {
        "id": "-ij0jyOSmbn6"
      },
      "source": [
        "concaty_url = '/content/drive/My Drive/concaty.csv'\n",
        "df_y = pd.read_csv(concaty_url, sep=\";\", header=None)"
      ],
      "execution_count": null,
      "outputs": []
    },
    {
      "cell_type": "code",
      "metadata": {
        "id": "YJO9WIL4mrB3"
      },
      "source": [
        "df_y = df_y.drop(0, 1)\n",
        "df_y = df_y.drop(0, 0)"
      ],
      "execution_count": null,
      "outputs": []
    },
    {
      "cell_type": "code",
      "metadata": {
        "colab": {
          "base_uri": "https://localhost:8080/",
          "height": 206
        },
        "id": "UCAVeiGmmm2M",
        "outputId": "8d94f891-74dd-4b46-989b-c0df9ed382d9"
      },
      "source": [
        "df_y.head(5)"
      ],
      "execution_count": null,
      "outputs": [
        {
          "output_type": "execute_result",
          "data": {
            "text/html": [
              "<div>\n",
              "<style scoped>\n",
              "    .dataframe tbody tr th:only-of-type {\n",
              "        vertical-align: middle;\n",
              "    }\n",
              "\n",
              "    .dataframe tbody tr th {\n",
              "        vertical-align: top;\n",
              "    }\n",
              "\n",
              "    .dataframe thead th {\n",
              "        text-align: right;\n",
              "    }\n",
              "</style>\n",
              "<table border=\"1\" class=\"dataframe\">\n",
              "  <thead>\n",
              "    <tr style=\"text-align: right;\">\n",
              "      <th></th>\n",
              "      <th>1</th>\n",
              "    </tr>\n",
              "  </thead>\n",
              "  <tbody>\n",
              "    <tr>\n",
              "      <th>1</th>\n",
              "      <td>1.0</td>\n",
              "    </tr>\n",
              "    <tr>\n",
              "      <th>2</th>\n",
              "      <td>1.0</td>\n",
              "    </tr>\n",
              "    <tr>\n",
              "      <th>3</th>\n",
              "      <td>1.0</td>\n",
              "    </tr>\n",
              "    <tr>\n",
              "      <th>4</th>\n",
              "      <td>1.0</td>\n",
              "    </tr>\n",
              "    <tr>\n",
              "      <th>5</th>\n",
              "      <td>1.0</td>\n",
              "    </tr>\n",
              "  </tbody>\n",
              "</table>\n",
              "</div>"
            ],
            "text/plain": [
              "     1\n",
              "1  1.0\n",
              "2  1.0\n",
              "3  1.0\n",
              "4  1.0\n",
              "5  1.0"
            ]
          },
          "metadata": {},
          "execution_count": 145
        }
      ]
    },
    {
      "cell_type": "code",
      "metadata": {
        "colab": {
          "base_uri": "https://localhost:8080/"
        },
        "id": "iKlYkM96nC1-",
        "outputId": "2f027ddf-6e3a-49f9-a4fa-a934403ab7cb"
      },
      "source": [
        "df_y.shape"
      ],
      "execution_count": null,
      "outputs": [
        {
          "output_type": "execute_result",
          "data": {
            "text/plain": [
              "(552, 1)"
            ]
          },
          "metadata": {},
          "execution_count": 146
        }
      ]
    },
    {
      "cell_type": "markdown",
      "metadata": {
        "id": "JZK-eeV3s8di"
      },
      "source": [
        "### Separando dados"
      ]
    },
    {
      "cell_type": "code",
      "metadata": {
        "id": "5gX3s9Kxs8dj"
      },
      "source": [
        "x_training, x_validation, y_training, y_validation = train_test_split(df_x, df_y, test_size=0.1, random_state=5)"
      ],
      "execution_count": null,
      "outputs": []
    },
    {
      "cell_type": "code",
      "metadata": {
        "colab": {
          "base_uri": "https://localhost:8080/"
        },
        "id": "KW2dly8ys8dk",
        "outputId": "813a4aff-918c-4e00-c2ae-a140eb0a0e8b"
      },
      "source": [
        "x_training.shape"
      ],
      "execution_count": null,
      "outputs": [
        {
          "output_type": "execute_result",
          "data": {
            "text/plain": [
              "(496, 3762)"
            ]
          },
          "metadata": {},
          "execution_count": 148
        }
      ]
    },
    {
      "cell_type": "markdown",
      "metadata": {
        "id": "Ag9IIRews8dk"
      },
      "source": [
        "### Criando o modelo"
      ]
    },
    {
      "cell_type": "code",
      "metadata": {
        "colab": {
          "base_uri": "https://localhost:8080/",
          "height": 152
        },
        "id": "faePSi67s8dl",
        "outputId": "b43780ba-614c-42ed-ed54-97017075ea6d"
      },
      "source": [
        "inputs = Input(shape=((x_training.shape[1], 1)))\n",
        "\n",
        "conv1 = Conv1D(64, 3, padding='same', activation='relu')(inputs)\n",
        "conv2 = Conv1D(64, 3, padding='same', activation='relu')(conv1)\n",
        "pool1 = GlobalAveragePooling1D()(conv2)\n",
        "dense1 = Dense(100, activation='relu')(pool1)\n",
        "drop1 = Dropout(0.1)(dense1)\n",
        "outputs = Dense(1, activation='softmax')(drop1)\n",
        "\n",
        "model = tf.keras.Model(inputs, outputs)\n",
        "\n",
        "# print (model.summary())\n",
        "\n",
        "# custom_adam = optimizers.Adam(lr=0.0001)  # , decay=0.00003, amsgrad=True)\n",
        "model.compile(loss=tf.keras.losses.BinaryCrossentropy(from_logits=True), optimizer='adam', metrics=['acc', 'mae'])\n",
        "\n",
        "tf.keras.utils.plot_model(model, show_shapes=True, rankdir=\"LR\")\n"
      ],
      "execution_count": null,
      "outputs": [
        {
          "output_type": "execute_result",
          "data": {
            "image/png": "[encoded data removed]",
            "text/plain": [
              "<IPython.core.display.Image object>"
            ]
          },
          "metadata": {},
          "execution_count": 173
        }
      ]
    },
    {
      "cell_type": "markdown",
      "metadata": {
        "id": "FMfOd_ACs8dl"
      },
      "source": [
        "### Treinando o modelo"
      ]
    },
    {
      "cell_type": "code",
      "metadata": {
        "colab": {
          "base_uri": "https://localhost:8080/"
        },
        "id": "VTGmeB_Cs8dn",
        "outputId": "77d06a78-f157-4f95-ed81-b20a7ec7f631"
      },
      "source": [
        "model.fit(x_training, y_training, epochs=10)"
      ],
      "execution_count": null,
      "outputs": [
        {
          "output_type": "stream",
          "name": "stdout",
          "text": [
            "Epoch 1/10\n"
          ]
        },
        {
          "output_type": "stream",
          "name": "stderr",
          "text": [
            "/usr/local/lib/python3.7/dist-packages/tensorflow/python/util/dispatch.py:1096: UserWarning: \"`binary_crossentropy` received `from_logits=True`, but the `output` argument was produced by a sigmoid or softmax activation and thus does not represent logits. Was this intended?\"\n",
            "  return dispatch_target(*args, **kwargs)\n"
          ]
        },
        {
          "output_type": "stream",
          "name": "stdout",
          "text": [
            "16/16 [==============================] - 5s 290ms/step - loss: 29.6348 - acc: 0.9254 - mae: 0.0746\n",
            "Epoch 2/10\n",
            "16/16 [==============================] - 5s 285ms/step - loss: 13.4992 - acc: 0.9254 - mae: 0.0746\n",
            "Epoch 3/10\n",
            "16/16 [==============================] - 5s 285ms/step - loss: 11.3164 - acc: 0.9254 - mae: 0.0746\n",
            "Epoch 4/10\n",
            "16/16 [==============================] - 5s 287ms/step - loss: 8.8759 - acc: 0.9254 - mae: 0.0746\n",
            "Epoch 5/10\n",
            "16/16 [==============================] - 5s 286ms/step - loss: 6.1269 - acc: 0.9254 - mae: 0.0746\n",
            "Epoch 6/10\n",
            "16/16 [==============================] - 5s 285ms/step - loss: 4.9778 - acc: 0.9254 - mae: 0.0746\n",
            "Epoch 7/10\n",
            "16/16 [==============================] - 5s 284ms/step - loss: 3.3953 - acc: 0.9254 - mae: 0.0746\n",
            "Epoch 8/10\n",
            "16/16 [==============================] - 5s 283ms/step - loss: 4.5190 - acc: 0.9254 - mae: 0.0746\n",
            "Epoch 9/10\n",
            "16/16 [==============================] - 5s 283ms/step - loss: 2.5019 - acc: 0.9254 - mae: 0.0746\n",
            "Epoch 10/10\n",
            "16/16 [==============================] - 5s 282ms/step - loss: 2.2401 - acc: 0.9254 - mae: 0.0746\n"
          ]
        },
        {
          "output_type": "execute_result",
          "data": {
            "text/plain": [
              "<keras.callbacks.History at 0x7efba920b910>"
            ]
          },
          "metadata": {},
          "execution_count": 174
        }
      ]
    },
    {
      "cell_type": "code",
      "metadata": {
        "colab": {
          "base_uri": "https://localhost:8080/"
        },
        "id": "jhYp6Cmbs8dn",
        "outputId": "a65e2f19-e21c-4f5c-ff82-36f21ec637fe"
      },
      "source": [
        "model.evaluate(x_validation, y_validation)\n"
      ],
      "execution_count": null,
      "outputs": [
        {
          "output_type": "stream",
          "name": "stderr",
          "text": [
            "/usr/local/lib/python3.7/dist-packages/tensorflow/python/util/dispatch.py:1096: UserWarning: \"`binary_crossentropy` received `from_logits=True`, but the `output` argument was produced by a sigmoid or softmax activation and thus does not represent logits. Was this intended?\"\n",
            "  return dispatch_target(*args, **kwargs)\n"
          ]
        },
        {
          "output_type": "stream",
          "name": "stdout",
          "text": [
            "2/2 [==============================] - 0s 88ms/step - loss: 0.3181 - acc: 0.9464 - mae: 0.0536\n"
          ]
        },
        {
          "output_type": "execute_result",
          "data": {
            "text/plain": [
              "[0.31811824440956116, 0.9464285969734192, 0.0535714291036129]"
            ]
          },
          "metadata": {},
          "execution_count": 175
        }
      ]
    },
    {
      "cell_type": "markdown",
      "metadata": {
        "id": "VNntU-WEs8dn"
      },
      "source": [
        "### Realizando predições"
      ]
    },
    {
      "cell_type": "code",
      "metadata": {
        "colab": {
          "base_uri": "https://localhost:8080/"
        },
        "id": "1p7tXAx-s8do",
        "outputId": "466e7e20-9a09-442e-b9cb-1b591448c03e"
      },
      "source": [
        "y_pred = model.predict(x_training[:10])\n",
        "y_pred"
      ],
      "execution_count": null,
      "outputs": [
        {
          "output_type": "stream",
          "name": "stdout",
          "text": [
            "WARNING:tensorflow:5 out of the last 23 calls to <function Model.make_predict_function.<locals>.predict_function at 0x7efba9216f80> triggered tf.function retracing. Tracing is expensive and the excessive number of tracings could be due to (1) creating @tf.function repeatedly in a loop, (2) passing tensors with different shapes, (3) passing Python objects instead of tensors. For (1), please define your @tf.function outside of the loop. For (2), @tf.function has experimental_relax_shapes=True option that relaxes argument shapes that can avoid unnecessary retracing. For (3), please refer to https://www.tensorflow.org/guide/function#controlling_retracing and https://www.tensorflow.org/api_docs/python/tf/function for  more details.\n"
          ]
        },
        {
          "output_type": "execute_result",
          "data": {
            "text/plain": [
              "array([[1.],\n",
              "       [1.],\n",
              "       [1.],\n",
              "       [1.],\n",
              "       [1.],\n",
              "       [1.],\n",
              "       [1.],\n",
              "       [1.],\n",
              "       [1.],\n",
              "       [1.]], dtype=float32)"
            ]
          },
          "metadata": {},
          "execution_count": 176
        }
      ]
    },
    {
      "cell_type": "markdown",
      "metadata": {
        "id": "o9eiBeRfs8do"
      },
      "source": [
        "### Avaliando métricas"
      ]
    },
    {
      "cell_type": "code",
      "metadata": {
        "colab": {
          "base_uri": "https://localhost:8080/"
        },
        "id": "YHyxgm3ys8do",
        "outputId": "d1d38766-ba5f-409f-99c5-7f02efc9b641"
      },
      "source": [
        "model.summary()"
      ],
      "execution_count": null,
      "outputs": [
        {
          "output_type": "stream",
          "name": "stdout",
          "text": [
            "Model: \"model_8\"\n",
            "_________________________________________________________________\n",
            " Layer (type)                Output Shape              Param #   \n",
            "=================================================================\n",
            " input_11 (InputLayer)       [(None, 3762, 1)]         0         \n",
            "                                                                 \n",
            " conv1d_16 (Conv1D)          (None, 3762, 64)          256       \n",
            "                                                                 \n",
            " conv1d_17 (Conv1D)          (None, 3762, 64)          12352     \n",
            "                                                                 \n",
            " global_average_pooling1d_7   (None, 64)               0         \n",
            " (GlobalAveragePooling1D)                                        \n",
            "                                                                 \n",
            " dense_16 (Dense)            (None, 100)               6500      \n",
            "                                                                 \n",
            " dropout_8 (Dropout)         (None, 100)               0         \n",
            "                                                                 \n",
            " dense_17 (Dense)            (None, 1)                 101       \n",
            "                                                                 \n",
            "=================================================================\n",
            "Total params: 19,209\n",
            "Trainable params: 19,209\n",
            "Non-trainable params: 0\n",
            "_________________________________________________________________\n"
          ]
        }
      ]
    },
    {
      "cell_type": "markdown",
      "metadata": {
        "id": "m-JQpB6os8dp"
      },
      "source": [
        "Matriz de confusão"
      ]
    },
    {
      "cell_type": "code",
      "metadata": {
        "colab": {
          "base_uri": "https://localhost:8080/"
        },
        "id": "eUM2kLyds8dp",
        "outputId": "0ba8f1ad-0d70-4ba5-994d-f0d0aa5c133d"
      },
      "source": [
        "confusion_matrix(y_training[:10], y_pred)"
      ],
      "execution_count": null,
      "outputs": [
        {
          "output_type": "execute_result",
          "data": {
            "text/plain": [
              "array([[10]])"
            ]
          },
          "metadata": {},
          "execution_count": 178
        }
      ]
    },
    {
      "cell_type": "markdown",
      "metadata": {
        "id": "8a7H_k-1s8dp"
      },
      "source": [
        "Precisão"
      ]
    },
    {
      "cell_type": "code",
      "metadata": {
        "colab": {
          "base_uri": "https://localhost:8080/"
        },
        "id": "-zazIkLOs8dp",
        "outputId": "769a74a3-da63-4301-83bb-45037852f563"
      },
      "source": [
        "precision_score(y_training[:10], y_pred, average='macro')"
      ],
      "execution_count": null,
      "outputs": [
        {
          "output_type": "execute_result",
          "data": {
            "text/plain": [
              "1.0"
            ]
          },
          "metadata": {},
          "execution_count": 179
        }
      ]
    },
    {
      "cell_type": "markdown",
      "metadata": {
        "id": "QV8_H5ERs8dp"
      },
      "source": [
        "Recall"
      ]
    },
    {
      "cell_type": "code",
      "metadata": {
        "colab": {
          "base_uri": "https://localhost:8080/"
        },
        "id": "yNwIZzjAs8dp",
        "outputId": "5d6e58a4-7d68-43a8-f51a-bc87e7ecfb39"
      },
      "source": [
        "recall_score(y_training[:10], y_pred, average='macro')"
      ],
      "execution_count": null,
      "outputs": [
        {
          "output_type": "execute_result",
          "data": {
            "text/plain": [
              "1.0"
            ]
          },
          "metadata": {},
          "execution_count": 180
        }
      ]
    },
    {
      "cell_type": "code",
      "metadata": {
        "colab": {
          "base_uri": "https://localhost:8080/"
        },
        "id": "htodx-32s8dq",
        "outputId": "cbce4dbb-6740-4410-b2ff-74caaf7dde24"
      },
      "source": [
        "f1_score(y_training[:10], y_pred, average=None)"
      ],
      "execution_count": null,
      "outputs": [
        {
          "output_type": "execute_result",
          "data": {
            "text/plain": [
              "array([1.])"
            ]
          },
          "metadata": {},
          "execution_count": 181
        }
      ]
    }
  ]
}